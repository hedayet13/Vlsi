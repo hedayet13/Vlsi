{
  "nbformat": 4,
  "nbformat_minor": 0,
  "metadata": {
    "colab": {
      "name": "mosfet.ipynb",
      "provenance": [],
      "authorship_tag": "ABX9TyPDBw5QG4HY5ZcJXBtihdIp",
      "include_colab_link": true
    },
    "kernelspec": {
      "name": "python3",
      "display_name": "Python 3"
    },
    "language_info": {
      "name": "python"
    }
  },
  "cells": [
    {
      "cell_type": "markdown",
      "metadata": {
        "id": "view-in-github",
        "colab_type": "text"
      },
      "source": [
        "<a href=\"https://colab.research.google.com/github/hedayet13/Vlsi/blob/main/mosfet.ipynb\" target=\"_parent\"><img src=\"https://colab.research.google.com/assets/colab-badge.svg\" alt=\"Open In Colab\"/></a>"
      ]
    },
    {
      "cell_type": "code",
      "metadata": {
        "id": "RsTuqgDHthIk"
      },
      "source": [
        "'''\n",
        "N-mos transistor I-V characteristic\n",
        "\n",
        "t_ox= oxidation thickness\n",
        "mu= mobility constant\n",
        "Vt=threshold voltage\n",
        "Vgs=gate to source voltage. Range of (0 to 5)\n",
        "Vds=drain to source voltage\n",
        "Ids = Drain to source current\n",
        "W= Gate width\n",
        "L= Gate Length \n",
        "'''\n",
        "## importing all essential library\n",
        "import matplotlib.pyplot as plt\n",
        "import numpy as np\n",
        " \n",
        "# all Variables\n",
        "t_ox = 100*(10**-8)   \n",
        "mu=350\n",
        "Vt=0.7 \n",
        "range_Vgs = range(1,6)\n",
        "range_Vds= np.linspace(0,5)\n",
        "W=4\n",
        "L=2\n",
        "epsilon = 8.854*(10**-14)\n",
        " \n",
        "# Beta value Execution\n",
        "Beta = mu*(3.9*epsilon/t_ox)*(W/L)\n",
        " \n",
        "# Showing the curve\n",
        "plt.figure(figsize=(10,7))\n",
        "for Vgs in range_Vgs:\n",
        "  Ids_value = []\n",
        "  for Vds in range_Vds:\n",
        "    if Vgs<Vt:\n",
        "      Ids=0\n",
        "    elif Vgs>Vt and Vds<=(Vgs-Vt):\n",
        "      Ids= Beta*(Vgs-Vt-(Vds/2))*Vds\n",
        "    elif Vgs>Vt and Vds>(Vgs-Vt):\n",
        "      Ids=(Beta/2)*((Vgs-Vt)**2)\n",
        "    Ids_value.append(Ids*1000)\n",
        "  plt.plot(range_Vds,Ids_value,label = \"Vgs={}\".format(Vgs))\n",
        "plt.ylim([0, 2.5])\n",
        "plt.title(r'n-mos transistor I-V characteristics curve')\n",
        "plt.xlabel('Vds (Voltage)')\n",
        "plt.ylabel('Ids (mA)')\n",
        "plt.legend()\n",
        "plt.show()"
      ],
      "execution_count": null,
      "outputs": []
    },
    {
      "cell_type": "code",
      "metadata": {
        "id": "qKxmESlYtmtF"
      },
      "source": [
        "'''\n",
        "P-mos transistor I-V characteristic\n",
        "\n",
        "'''\n",
        "## importing all essential library\n",
        "import matplotlib.pyplot as plt\n",
        "import numpy as np\n",
        "\n",
        "# all Variable \n",
        "t_ox = 100*(10**-8)\n",
        "mu=120\n",
        "Vt=-0.7\n",
        "range_Vgs = range(-5,0)\n",
        "range_Vds= -np.linspace(0,5)\n",
        "W=4\n",
        "L=2\n",
        "epsilon = 8.854*(10**-14)\n",
        "\n",
        "# Beta value Execution\n",
        "Beta = mu*(3.9*epsilon/t_ox)*(W/L)\n",
        "\n",
        "# Showing the curve\n",
        "plt.figure(figsize=(10,7))\n",
        "plt.tick_params(axis=\"y\",which='both',labelleft=False,labelright=True)\n",
        "\n",
        "for Vgs in range_Vgs:\n",
        "  Ids_value = []\n",
        "  for Vds in range_Vds:\n",
        "    if Vgs>Vt:\n",
        "      Ids=0\n",
        "    elif Vgs<Vt and Vds>=(Vgs-Vt):\n",
        "      Ids= Beta*(Vgs-Vt-(Vds/2))*Vds\n",
        "    elif Vgs<Vt and Vds<(Vgs-Vt):\n",
        "      Ids=(Beta/2)*((Vgs-Vt)**2)\n",
        "    Ids_value.append(Ids*1000)\n",
        "  plt.plot(range_Vds,Ids_value,label = \"Vgs={}\".format(Vgs))\n",
        "plt.title(r'p-mos transistor I-V characteristics curve')\n",
        "plt.xlabel('Vds(Voltage)')\n",
        "plt.ylabel('Ids (mA)',labelpad=-625)\n",
        "plt.legend()\n",
        "plt.show()"
      ],
      "execution_count": null,
      "outputs": []
    }
  ]
}